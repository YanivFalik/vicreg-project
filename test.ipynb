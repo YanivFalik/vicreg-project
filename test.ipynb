{
 "cells": [
  {
   "cell_type": "code",
   "execution_count": 4,
   "metadata": {},
   "outputs": [],
   "source": [
    "import augmentations"
   ]
  },
  {
   "cell_type": "code",
   "execution_count": 5,
   "metadata": {},
   "outputs": [
    {
     "name": "stdout",
     "output_type": "stream",
     "text": [
      "Files already downloaded and verified\n",
      "Files already downloaded and verified\n"
     ]
    }
   ],
   "source": [
    "train, test = augmentations.get_cifar_dataset()\n"
   ]
  },
  {
   "cell_type": "code",
   "execution_count": 1,
   "metadata": {},
   "outputs": [],
   "source": [
    "test_loss_per_epoch = [\n",
    "    24.3910, 22.4211, 20.1257, 20.2519, 19.2383,\n",
    "    18.8542, 17.5877, 17.5251, 16.5858, 15.9239,\n",
    "    16.6436, 16.1249, 15.3570, 14.6884, 14.6653,\n",
    "    14.9108, 14.8091, 14.3957, 14.0216, 14.0502,\n",
    "    13.8270, 14.3703, 14.5685, 13.7890, 13.6021,\n",
    "    13.7114, 13.5160, 15.1410, 14.0970, 15.9271\n",
    "]"
   ]
  },
  {
   "cell_type": "code",
   "execution_count": 3,
   "metadata": {},
   "outputs": [],
   "source": [
    "import matplotlib.pyplot as plt\n",
    "import os \n",
    "plt.figure(figsize=(8, 4))\n",
    "plt.plot(range(1, 31), test_loss_per_epoch, marker='o', label=\"Test Loss\")\n",
    "plt.xlabel(\"Epoch\")\n",
    "plt.ylabel(\"Total VICReg Loss\")\n",
    "plt.title(\"VICReg Total Test Loss per Epoch\")\n",
    "plt.grid(True)\n",
    "plt.tight_layout()\n",
    "plt.savefig(os.path.join(\"figs\", \"total_test_loss.png\"))\n",
    "plt.close()"
   ]
  },
  {
   "cell_type": "code",
   "execution_count": null,
   "metadata": {},
   "outputs": [],
   "source": []
  }
 ],
 "metadata": {
  "kernelspec": {
   "display_name": "ml",
   "language": "python",
   "name": "python3"
  },
  "language_info": {
   "codemirror_mode": {
    "name": "ipython",
    "version": 3
   },
   "file_extension": ".py",
   "mimetype": "text/x-python",
   "name": "python",
   "nbconvert_exporter": "python",
   "pygments_lexer": "ipython3",
   "version": "3.11.11"
  }
 },
 "nbformat": 4,
 "nbformat_minor": 2
}
